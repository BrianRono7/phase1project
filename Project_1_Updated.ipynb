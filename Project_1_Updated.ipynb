{
  "cells": [
    {
      "cell_type": "markdown",
      "metadata": {
        "id": "GvJEI-RWTgg-"
      },
      "source": [
        "## Aviation Accident Data Analysis\n",
        "\n",
        "### Business Understanding\n",
        "The company is expanding into the aviation industry and needs to identify the lowest-risk aircraft for purchase and operation. This analysis will help the company make data-driven decisions to minimize risks and ensure safety."
      ]
    },
    {
      "cell_type": "markdown",
      "metadata": {
        "id": "Rx4Rn_ART-DF"
      },
      "source": [
        "### Data Understanding\n",
        "The dataset used is the **NTSB Aviation Accident Database**, which contains information about civil aviation accidents and incidents in the United States and international waters from 1962 to 2023. Key columns include:\n",
        "- `Event.Date`: Date of the accident.\n",
        "- `Injury.Severity`: Severity of injuries (e.g., Fatal, Serious, Minor).\n",
        "- `Aircraft.damage`: Extent of damage to the aircraft.\n",
        "- `Make`: Manufacturer and model of the aircraft.\n",
        "- `Engine.Type`: Engine details.\n",
        "- `Total.Fatal.Injuries`, `Total.Serious.Injuries`, `Total.Minor.Injuries`, `Total.Uninjured`: Injury statistics.\n",
        "- `Weather.Condition` and `Broad.phase.of.flight`: Contextual details about the accident.\n"
      ]
    },
    {
      "cell_type": "markdown",
      "metadata": {
        "id": "vau7BatRrbR4"
      },
      "source": [
        "### Data Preparation\n",
        "We start by downloading and cleaning the dataset to ensure data integrity"
      ]
    },
    {
      "cell_type": "code",
      "execution_count": 15,
      "metadata": {
        "colab": {
          "base_uri": "https://localhost:8080/"
        },
        "id": "ngCCHwr63TBv",
        "outputId": "84efdca0-1b9d-4110-8d61-0cc2dc80c435"
      },
      "outputs": [],
      "source": [
        "import os\n",
        "import pandas as pd\n",
        "import kagglehub\n",
        "\n",
        "# Download latest version\n",
        "path = kagglehub.dataset_download(\"khsamaha/aviation-accident-database-synopses\")"
      ]
    },
    {
      "cell_type": "code",
      "execution_count": 16,
      "metadata": {
        "colab": {
          "base_uri": "https://localhost:8080/",
          "height": 416
        },
        "id": "VgDEqwtHxlfX",
        "outputId": "6a25c13c-9970-4c9f-9c5e-c3ba0e6ecaf2"
      },
      "outputs": [
        {
          "name": "stderr",
          "output_type": "stream",
          "text": [
            "/var/folders/hk/9q5rgqm970gcnk6z0xvy1p7m0000gn/T/ipykernel_93062/3256873801.py:4: DtypeWarning: Columns (6,7,28) have mixed types. Specify dtype option on import or set low_memory=False.\n",
            "  df = pd.read_csv(csv_path, encoding='latin1')\n"
          ]
        },
        {
          "data": {
            "text/html": [
              "<div>\n",
              "<style scoped>\n",
              "    .dataframe tbody tr th:only-of-type {\n",
              "        vertical-align: middle;\n",
              "    }\n",
              "\n",
              "    .dataframe tbody tr th {\n",
              "        vertical-align: top;\n",
              "    }\n",
              "\n",
              "    .dataframe thead th {\n",
              "        text-align: right;\n",
              "    }\n",
              "</style>\n",
              "<table border=\"1\" class=\"dataframe\">\n",
              "  <thead>\n",
              "    <tr style=\"text-align: right;\">\n",
              "      <th></th>\n",
              "      <th>Event.Id</th>\n",
              "      <th>Investigation.Type</th>\n",
              "      <th>Accident.Number</th>\n",
              "      <th>Event.Date</th>\n",
              "      <th>Location</th>\n",
              "      <th>Country</th>\n",
              "      <th>Latitude</th>\n",
              "      <th>Longitude</th>\n",
              "      <th>Airport.Code</th>\n",
              "      <th>Airport.Name</th>\n",
              "      <th>...</th>\n",
              "      <th>Purpose.of.flight</th>\n",
              "      <th>Air.carrier</th>\n",
              "      <th>Total.Fatal.Injuries</th>\n",
              "      <th>Total.Serious.Injuries</th>\n",
              "      <th>Total.Minor.Injuries</th>\n",
              "      <th>Total.Uninjured</th>\n",
              "      <th>Weather.Condition</th>\n",
              "      <th>Broad.phase.of.flight</th>\n",
              "      <th>Report.Status</th>\n",
              "      <th>Publication.Date</th>\n",
              "    </tr>\n",
              "  </thead>\n",
              "  <tbody>\n",
              "    <tr>\n",
              "      <th>0</th>\n",
              "      <td>20001218X45444</td>\n",
              "      <td>Accident</td>\n",
              "      <td>SEA87LA080</td>\n",
              "      <td>1948-10-24</td>\n",
              "      <td>MOOSE CREEK, ID</td>\n",
              "      <td>United States</td>\n",
              "      <td>NaN</td>\n",
              "      <td>NaN</td>\n",
              "      <td>NaN</td>\n",
              "      <td>NaN</td>\n",
              "      <td>...</td>\n",
              "      <td>Personal</td>\n",
              "      <td>NaN</td>\n",
              "      <td>2.0</td>\n",
              "      <td>0.0</td>\n",
              "      <td>0.0</td>\n",
              "      <td>0.0</td>\n",
              "      <td>UNK</td>\n",
              "      <td>Cruise</td>\n",
              "      <td>Probable Cause</td>\n",
              "      <td>NaN</td>\n",
              "    </tr>\n",
              "    <tr>\n",
              "      <th>1</th>\n",
              "      <td>20001218X45447</td>\n",
              "      <td>Accident</td>\n",
              "      <td>LAX94LA336</td>\n",
              "      <td>1962-07-19</td>\n",
              "      <td>BRIDGEPORT, CA</td>\n",
              "      <td>United States</td>\n",
              "      <td>NaN</td>\n",
              "      <td>NaN</td>\n",
              "      <td>NaN</td>\n",
              "      <td>NaN</td>\n",
              "      <td>...</td>\n",
              "      <td>Personal</td>\n",
              "      <td>NaN</td>\n",
              "      <td>4.0</td>\n",
              "      <td>0.0</td>\n",
              "      <td>0.0</td>\n",
              "      <td>0.0</td>\n",
              "      <td>UNK</td>\n",
              "      <td>Unknown</td>\n",
              "      <td>Probable Cause</td>\n",
              "      <td>19-09-1996</td>\n",
              "    </tr>\n",
              "    <tr>\n",
              "      <th>2</th>\n",
              "      <td>20061025X01555</td>\n",
              "      <td>Accident</td>\n",
              "      <td>NYC07LA005</td>\n",
              "      <td>1974-08-30</td>\n",
              "      <td>Saltville, VA</td>\n",
              "      <td>United States</td>\n",
              "      <td>36.922223</td>\n",
              "      <td>-81.878056</td>\n",
              "      <td>NaN</td>\n",
              "      <td>NaN</td>\n",
              "      <td>...</td>\n",
              "      <td>Personal</td>\n",
              "      <td>NaN</td>\n",
              "      <td>3.0</td>\n",
              "      <td>NaN</td>\n",
              "      <td>NaN</td>\n",
              "      <td>NaN</td>\n",
              "      <td>IMC</td>\n",
              "      <td>Cruise</td>\n",
              "      <td>Probable Cause</td>\n",
              "      <td>26-02-2007</td>\n",
              "    </tr>\n",
              "    <tr>\n",
              "      <th>3</th>\n",
              "      <td>20001218X45448</td>\n",
              "      <td>Accident</td>\n",
              "      <td>LAX96LA321</td>\n",
              "      <td>1977-06-19</td>\n",
              "      <td>EUREKA, CA</td>\n",
              "      <td>United States</td>\n",
              "      <td>NaN</td>\n",
              "      <td>NaN</td>\n",
              "      <td>NaN</td>\n",
              "      <td>NaN</td>\n",
              "      <td>...</td>\n",
              "      <td>Personal</td>\n",
              "      <td>NaN</td>\n",
              "      <td>2.0</td>\n",
              "      <td>0.0</td>\n",
              "      <td>0.0</td>\n",
              "      <td>0.0</td>\n",
              "      <td>IMC</td>\n",
              "      <td>Cruise</td>\n",
              "      <td>Probable Cause</td>\n",
              "      <td>12-09-2000</td>\n",
              "    </tr>\n",
              "    <tr>\n",
              "      <th>4</th>\n",
              "      <td>20041105X01764</td>\n",
              "      <td>Accident</td>\n",
              "      <td>CHI79FA064</td>\n",
              "      <td>1979-08-02</td>\n",
              "      <td>Canton, OH</td>\n",
              "      <td>United States</td>\n",
              "      <td>NaN</td>\n",
              "      <td>NaN</td>\n",
              "      <td>NaN</td>\n",
              "      <td>NaN</td>\n",
              "      <td>...</td>\n",
              "      <td>Personal</td>\n",
              "      <td>NaN</td>\n",
              "      <td>1.0</td>\n",
              "      <td>2.0</td>\n",
              "      <td>NaN</td>\n",
              "      <td>0.0</td>\n",
              "      <td>VMC</td>\n",
              "      <td>Approach</td>\n",
              "      <td>Probable Cause</td>\n",
              "      <td>16-04-1980</td>\n",
              "    </tr>\n",
              "  </tbody>\n",
              "</table>\n",
              "<p>5 rows × 31 columns</p>\n",
              "</div>"
            ],
            "text/plain": [
              "         Event.Id Investigation.Type Accident.Number  Event.Date  \\\n",
              "0  20001218X45444           Accident      SEA87LA080  1948-10-24   \n",
              "1  20001218X45447           Accident      LAX94LA336  1962-07-19   \n",
              "2  20061025X01555           Accident      NYC07LA005  1974-08-30   \n",
              "3  20001218X45448           Accident      LAX96LA321  1977-06-19   \n",
              "4  20041105X01764           Accident      CHI79FA064  1979-08-02   \n",
              "\n",
              "          Location        Country   Latitude  Longitude Airport.Code  \\\n",
              "0  MOOSE CREEK, ID  United States        NaN        NaN          NaN   \n",
              "1   BRIDGEPORT, CA  United States        NaN        NaN          NaN   \n",
              "2    Saltville, VA  United States  36.922223 -81.878056          NaN   \n",
              "3       EUREKA, CA  United States        NaN        NaN          NaN   \n",
              "4       Canton, OH  United States        NaN        NaN          NaN   \n",
              "\n",
              "  Airport.Name  ... Purpose.of.flight Air.carrier Total.Fatal.Injuries  \\\n",
              "0          NaN  ...          Personal         NaN                  2.0   \n",
              "1          NaN  ...          Personal         NaN                  4.0   \n",
              "2          NaN  ...          Personal         NaN                  3.0   \n",
              "3          NaN  ...          Personal         NaN                  2.0   \n",
              "4          NaN  ...          Personal         NaN                  1.0   \n",
              "\n",
              "  Total.Serious.Injuries Total.Minor.Injuries Total.Uninjured  \\\n",
              "0                    0.0                  0.0             0.0   \n",
              "1                    0.0                  0.0             0.0   \n",
              "2                    NaN                  NaN             NaN   \n",
              "3                    0.0                  0.0             0.0   \n",
              "4                    2.0                  NaN             0.0   \n",
              "\n",
              "  Weather.Condition  Broad.phase.of.flight   Report.Status Publication.Date  \n",
              "0               UNK                 Cruise  Probable Cause              NaN  \n",
              "1               UNK                Unknown  Probable Cause       19-09-1996  \n",
              "2               IMC                 Cruise  Probable Cause       26-02-2007  \n",
              "3               IMC                 Cruise  Probable Cause       12-09-2000  \n",
              "4               VMC               Approach  Probable Cause       16-04-1980  \n",
              "\n",
              "[5 rows x 31 columns]"
            ]
          },
          "execution_count": 16,
          "metadata": {},
          "output_type": "execute_result"
        }
      ],
      "source": [
        "# Find the CSV file inside the downloaded directory\n",
        "csv_files = [f for f in os.listdir(path) if f.endswith('.csv')]\n",
        "csv_path = os.path.join(path, csv_files[csv_files.index('AviationData.csv')])  # Use the first CSV file found\n",
        "df = pd.read_csv(csv_path, encoding='latin1')\n",
        "df.head(5)"
      ]
    },
    {
      "cell_type": "code",
      "execution_count": 17,
      "metadata": {
        "colab": {
          "base_uri": "https://localhost:8080/"
        },
        "id": "8gML0cTQTmMj",
        "outputId": "03b7afb8-0aff-4c54-b44f-fa92eb4dd5a7"
      },
      "outputs": [
        {
          "data": {
            "text/plain": [
              "(88889, 31)"
            ]
          },
          "execution_count": 17,
          "metadata": {},
          "output_type": "execute_result"
        }
      ],
      "source": [
        "df.shape"
      ]
    },
    {
      "cell_type": "markdown",
      "metadata": {
        "id": "KxeqcP7Gr3pQ"
      },
      "source": [
        "#### Data Cleaning\n",
        "- Drop irrelevant columns.\n",
        "- Impute missing values using mode or median.\n",
        "- Create new features: `Total.Injuries` and `Risk.Score` to quantify accident severity.\n"
      ]
    },
    {
      "cell_type": "code",
      "execution_count": 18,
      "metadata": {
        "colab": {
          "base_uri": "https://localhost:8080/"
        },
        "id": "rquWYJRDTtBJ",
        "outputId": "37ce0747-0b56-4957-f9b4-9b044a11ccd0"
      },
      "outputs": [
        {
          "data": {
            "text/plain": [
              "Index(['Event.Id', 'Investigation.Type', 'Accident.Number', 'Event.Date',\n",
              "       'Location', 'Country', 'Latitude', 'Longitude', 'Airport.Code',\n",
              "       'Airport.Name', 'Injury.Severity', 'Aircraft.damage',\n",
              "       'Aircraft.Category', 'Registration.Number', 'Make', 'Model',\n",
              "       'Amateur.Built', 'Number.of.Engines', 'Engine.Type', 'FAR.Description',\n",
              "       'Schedule', 'Purpose.of.flight', 'Air.carrier', 'Total.Fatal.Injuries',\n",
              "       'Total.Serious.Injuries', 'Total.Minor.Injuries', 'Total.Uninjured',\n",
              "       'Weather.Condition', 'Broad.phase.of.flight', 'Report.Status',\n",
              "       'Publication.Date'],\n",
              "      dtype='object')"
            ]
          },
          "execution_count": 18,
          "metadata": {},
          "output_type": "execute_result"
        }
      ],
      "source": [
        "# List of data's columns\n",
        "df.columns"
      ]
    },
    {
      "cell_type": "code",
      "execution_count": 19,
      "metadata": {
        "colab": {
          "base_uri": "https://localhost:8080/",
          "height": 300
        },
        "id": "TgHoC6AzT2DB",
        "outputId": "90e15366-c286-4093-82d4-fb1df23d9f9e"
      },
      "outputs": [
        {
          "data": {
            "text/html": [
              "<div>\n",
              "<style scoped>\n",
              "    .dataframe tbody tr th:only-of-type {\n",
              "        vertical-align: middle;\n",
              "    }\n",
              "\n",
              "    .dataframe tbody tr th {\n",
              "        vertical-align: top;\n",
              "    }\n",
              "\n",
              "    .dataframe thead th {\n",
              "        text-align: right;\n",
              "    }\n",
              "</style>\n",
              "<table border=\"1\" class=\"dataframe\">\n",
              "  <thead>\n",
              "    <tr style=\"text-align: right;\">\n",
              "      <th></th>\n",
              "      <th>Number.of.Engines</th>\n",
              "      <th>Total.Fatal.Injuries</th>\n",
              "      <th>Total.Serious.Injuries</th>\n",
              "      <th>Total.Minor.Injuries</th>\n",
              "      <th>Total.Uninjured</th>\n",
              "    </tr>\n",
              "  </thead>\n",
              "  <tbody>\n",
              "    <tr>\n",
              "      <th>count</th>\n",
              "      <td>82805.000000</td>\n",
              "      <td>77488.000000</td>\n",
              "      <td>76379.000000</td>\n",
              "      <td>76956.000000</td>\n",
              "      <td>82977.000000</td>\n",
              "    </tr>\n",
              "    <tr>\n",
              "      <th>mean</th>\n",
              "      <td>1.146585</td>\n",
              "      <td>0.647855</td>\n",
              "      <td>0.279881</td>\n",
              "      <td>0.357061</td>\n",
              "      <td>5.325440</td>\n",
              "    </tr>\n",
              "    <tr>\n",
              "      <th>std</th>\n",
              "      <td>0.446510</td>\n",
              "      <td>5.485960</td>\n",
              "      <td>1.544084</td>\n",
              "      <td>2.235625</td>\n",
              "      <td>27.913634</td>\n",
              "    </tr>\n",
              "    <tr>\n",
              "      <th>min</th>\n",
              "      <td>0.000000</td>\n",
              "      <td>0.000000</td>\n",
              "      <td>0.000000</td>\n",
              "      <td>0.000000</td>\n",
              "      <td>0.000000</td>\n",
              "    </tr>\n",
              "    <tr>\n",
              "      <th>25%</th>\n",
              "      <td>1.000000</td>\n",
              "      <td>0.000000</td>\n",
              "      <td>0.000000</td>\n",
              "      <td>0.000000</td>\n",
              "      <td>0.000000</td>\n",
              "    </tr>\n",
              "    <tr>\n",
              "      <th>50%</th>\n",
              "      <td>1.000000</td>\n",
              "      <td>0.000000</td>\n",
              "      <td>0.000000</td>\n",
              "      <td>0.000000</td>\n",
              "      <td>1.000000</td>\n",
              "    </tr>\n",
              "    <tr>\n",
              "      <th>75%</th>\n",
              "      <td>1.000000</td>\n",
              "      <td>0.000000</td>\n",
              "      <td>0.000000</td>\n",
              "      <td>0.000000</td>\n",
              "      <td>2.000000</td>\n",
              "    </tr>\n",
              "    <tr>\n",
              "      <th>max</th>\n",
              "      <td>8.000000</td>\n",
              "      <td>349.000000</td>\n",
              "      <td>161.000000</td>\n",
              "      <td>380.000000</td>\n",
              "      <td>699.000000</td>\n",
              "    </tr>\n",
              "  </tbody>\n",
              "</table>\n",
              "</div>"
            ],
            "text/plain": [
              "       Number.of.Engines  Total.Fatal.Injuries  Total.Serious.Injuries  \\\n",
              "count       82805.000000          77488.000000            76379.000000   \n",
              "mean            1.146585              0.647855                0.279881   \n",
              "std             0.446510              5.485960                1.544084   \n",
              "min             0.000000              0.000000                0.000000   \n",
              "25%             1.000000              0.000000                0.000000   \n",
              "50%             1.000000              0.000000                0.000000   \n",
              "75%             1.000000              0.000000                0.000000   \n",
              "max             8.000000            349.000000              161.000000   \n",
              "\n",
              "       Total.Minor.Injuries  Total.Uninjured  \n",
              "count          76956.000000     82977.000000  \n",
              "mean               0.357061         5.325440  \n",
              "std                2.235625        27.913634  \n",
              "min                0.000000         0.000000  \n",
              "25%                0.000000         0.000000  \n",
              "50%                0.000000         1.000000  \n",
              "75%                0.000000         2.000000  \n",
              "max              380.000000       699.000000  "
            ]
          },
          "execution_count": 19,
          "metadata": {},
          "output_type": "execute_result"
        }
      ],
      "source": [
        "# Summary statistics of numeric columns\n",
        "df.describe()"
      ]
    },
    {
      "cell_type": "code",
      "execution_count": 20,
      "metadata": {
        "colab": {
          "base_uri": "https://localhost:8080/",
          "height": 1056
        },
        "id": "TH7rQ0L78_-T",
        "outputId": "95692bb7-4cf2-4312-bc33-9f75d742730e"
      },
      "outputs": [
        {
          "data": {
            "text/plain": [
              "Event.Id                      0\n",
              "Investigation.Type            0\n",
              "Accident.Number               0\n",
              "Event.Date                    0\n",
              "Location                     52\n",
              "Country                     226\n",
              "Latitude                  54507\n",
              "Longitude                 54516\n",
              "Airport.Code              38757\n",
              "Airport.Name              36185\n",
              "Injury.Severity            1000\n",
              "Aircraft.damage            3194\n",
              "Aircraft.Category         56602\n",
              "Registration.Number        1382\n",
              "Make                         63\n",
              "Model                        92\n",
              "Amateur.Built               102\n",
              "Number.of.Engines          6084\n",
              "Engine.Type                7096\n",
              "FAR.Description           56866\n",
              "Schedule                  76307\n",
              "Purpose.of.flight          6192\n",
              "Air.carrier               72241\n",
              "Total.Fatal.Injuries      11401\n",
              "Total.Serious.Injuries    12510\n",
              "Total.Minor.Injuries      11933\n",
              "Total.Uninjured            5912\n",
              "Weather.Condition          4492\n",
              "Broad.phase.of.flight     27165\n",
              "Report.Status              6384\n",
              "Publication.Date          13771\n",
              "dtype: int64"
            ]
          },
          "execution_count": 20,
          "metadata": {},
          "output_type": "execute_result"
        }
      ],
      "source": [
        "# The sum of missing values in each column\n",
        "df.isna().sum()"
      ]
    },
    {
      "cell_type": "code",
      "execution_count": 21,
      "metadata": {
        "id": "jIx4Yaw16pZj"
      },
      "outputs": [],
      "source": [
        "# Drop irrelevant columns\n",
        "df = df.drop(columns=['Event.Id', 'Accident.Number', 'Total.Uninjured', 'Location', 'Report.Status', 'Country', 'Latitude', 'Longitude', 'Publication.Date', 'Airport.Code', 'Airport.Name', 'FAR.Description', 'Schedule', 'Registration.Number', 'Amateur.Built', 'Purpose.of.flight', 'Air.carrier' ])"
      ]
    },
    {
      "cell_type": "code",
      "execution_count": 22,
      "metadata": {
        "id": "wMjHw4OMC0X7"
      },
      "outputs": [],
      "source": [
        "# Impute missing values\n",
        "\n",
        "df['Injury.Severity'] = df['Injury.Severity'].fillna(df['Injury.Severity'].mode()[0])\n",
        "df['Aircraft.damage'] = df['Aircraft.damage'].fillna(df['Aircraft.damage'].mode()[0])\n",
        "df['Number.of.Engines'] = df['Number.of.Engines'].fillna(df['Number.of.Engines'].median())\n",
        "df['Engine.Type'] = df['Engine.Type'].fillna(df['Engine.Type'].mode()[0])\n",
        "df['Total.Serious.Injuries'] = df['Total.Serious.Injuries'].fillna(df['Total.Serious.Injuries'].mode()[0])\n",
        "df['Total.Minor.Injuries'] = df['Total.Minor.Injuries'].fillna(df['Total.Minor.Injuries'].mode()[0])\n",
        "df['Total.Fatal.Injuries'] = df['Total.Fatal.Injuries'].fillna(df['Total.Fatal.Injuries'].mode()[0])\n",
        "df['Weather.Condition'] = df['Weather.Condition'].fillna('Unknown')\n",
        "df['Broad.phase.of.flight'] = df['Broad.phase.of.flight'].fillna('Unknown')\n",
        "df['Make'] = df['Make'].fillna('Unknown')"
      ]
    },
    {
      "cell_type": "code",
      "execution_count": 23,
      "metadata": {
        "id": "d3LTE_38NQl3"
      },
      "outputs": [],
      "source": [
        "# Create new columns\n",
        "df['Total.Injuries'] = df['Total.Fatal.Injuries'] + df['Total.Serious.Injuries'] + df['Total.Minor.Injuries']\n",
        "df['Risk.Score'] = (df['Total.Fatal.Injuries'] * 3) + (df['Total.Serious.Injuries'] * 2) + (df['Total.Minor.Injuries'] * 1)"
      ]
    },
    {
      "cell_type": "code",
      "execution_count": 24,
      "metadata": {
        "id": "jisaENFfzN6p"
      },
      "outputs": [],
      "source": [
        "# Filter data for commercial aviation focus\n",
        "df_clean = df[df['Aircraft.Category'] == 'Airplane']"
      ]
    },
    {
      "cell_type": "code",
      "execution_count": 25,
      "metadata": {
        "colab": {
          "base_uri": "https://localhost:8080/"
        },
        "id": "xxltGM6Q7s3o",
        "outputId": "584d8776-ad37-4521-ed4b-af14bf3cef19"
      },
      "outputs": [
        {
          "name": "stdout",
          "output_type": "stream",
          "text": [
            "Cleaned Dataset Shape: (27586, 16)\n"
          ]
        }
      ],
      "source": [
        "# Drop rows with missing critical data\n",
        "df_clean = df_clean.dropna(subset=['Injury.Severity', 'Aircraft.damage', 'Make', 'Model'])\n",
        "\n",
        "# Convert 'Event.Date' to datetime\n",
        "df_clean['Event.Date'] = pd.to_datetime(df_clean['Event.Date'])\n",
        "\n",
        "# Check cleaned dataset\n",
        "print(\"Cleaned Dataset Shape:\", df_clean.shape)"
      ]
    },
    {
      "cell_type": "markdown",
      "metadata": {
        "id": "XFI1AYLiUwYi"
      },
      "source": [
        "## Data Analysis and Visualization\n",
        "#### Injury Severity by Aircraft Make\n",
        "We analyze which aircraft manufacturers have the highest average fatal injuries."
      ]
    },
    {
      "cell_type": "code",
      "execution_count": 26,
      "metadata": {
        "colab": {
          "base_uri": "https://localhost:8080/",
          "height": 847
        },
        "id": "c6IK13cG6N6D",
        "outputId": "d2dfdcb4-60e4-4fea-d166-38a11775df07"
      },
      "outputs": [
        {
          "name": "stderr",
          "output_type": "stream",
          "text": [
            "/var/folders/hk/9q5rgqm970gcnk6z0xvy1p7m0000gn/T/ipykernel_93062/3026956304.py:15: FutureWarning: \n",
            "\n",
            "Passing `palette` without assigning `hue` is deprecated and will be removed in v0.14.0. Assign the `y` variable to `hue` and set `legend=False` for the same effect.\n",
            "\n",
            "  sns.barplot(data=injury_by_make.head(30), x='Total.Fatal.Injuries', y='Make', palette='viridis')\n"
          ]
        },
        {
          "data": {
            "image/png": "[encoded data removed]",
            "text/plain": [
              "<Figure size 1200x800 with 1 Axes>"
            ]
          },
          "metadata": {},
          "output_type": "display_data"
        }
      ],
      "source": [
        "import matplotlib.pyplot as plt\n",
        "import seaborn as sns\n",
        "# Group by 'Make' and calculate average injuries\n",
        "injury_by_make = df_clean.groupby('Make').agg({\n",
        "    'Total.Fatal.Injuries': 'mean',\n",
        "    'Total.Serious.Injuries': 'mean',\n",
        "    'Total.Minor.Injuries': 'mean'\n",
        "}).reset_index()\n",
        "\n",
        "# Sort by 'Total.Fatal.Injuries'\n",
        "injury_by_make = injury_by_make.sort_values(by='Total.Fatal.Injuries', ascending=False)\n",
        "\n",
        "# Plot\n",
        "plt.figure(figsize=(12, 8))\n",
        "sns.barplot(data=injury_by_make.head(30), x='Total.Fatal.Injuries', y='Make', palette='viridis')\n",
        "plt.title('Top 30 Aircraft Makes with Highest Average Fatal Injuries')\n",
        "plt.xlabel('Average Fatal Injuries')\n",
        "plt.ylabel('Aircraft Make')\n",
        "plt.show()"
      ]
    },
    {
      "cell_type": "markdown",
      "metadata": {
        "id": "jntETVQgtrKm"
      },
      "source": [
        "**Insight:** Manufacturers like **Tupolev, Viking Air Limited, and Aviocar CASA** have the highest fatal injury averages."
      ]
    },
    {
      "cell_type": "markdown",
      "metadata": {
        "id": "ehYADYH5YFjM"
      },
      "source": [
        "#### Aircraft Damage by Weather Condition\n",
        "We examine how different weather conditions impact aircraft damage."
      ]
    },
    {
      "cell_type": "code",
      "execution_count": 27,
      "metadata": {
        "colab": {
          "base_uri": "https://localhost:8080/",
          "height": 707
        },
        "id": "WEDfI0YQ851Q",
        "outputId": "0bcedd99-b8f7-4abe-ae37-401709c6307e"
      },
      "outputs": [
        {
          "data": {
            "image/png": "[encoded data removed]",
            "text/plain": [
              "<Figure size 1400x700 with 1 Axes>"
            ]
          },
          "metadata": {},
          "output_type": "display_data"
        }
      ],
      "source": [
        "# Group by 'Weather.Condition' and calculate damage frequency\n",
        "damage_by_weather = df_clean.groupby('Weather.Condition')['Aircraft.damage'].value_counts(normalize=True).unstack()\n",
        "\n",
        "\n",
        "# Sort by total occurrences\n",
        "damage_by_weather = damage_by_weather.reindex(damage_by_weather.sum(axis=1).sort_values(ascending=False).index)\n",
        "\n",
        "# Set Seaborn style\n",
        "sns.set_style(\"whitegrid\")\n",
        "\n",
        "# Create bar plot (grouped bars)\n",
        "ax = damage_by_weather.plot(kind='bar', figsize=(14, 7), colormap='coolwarm', width=0.8, edgecolor='black')\n",
        "\n",
        "# Add labels on top of bars\n",
        "for p in ax.patches:\n",
        "    if p.get_height() > 0:\n",
        "        ax.annotate(f'{p.get_height()*100:.1f}%', (p.get_x() + p.get_width() / 2., p.get_height()),\n",
        "                    ha='center', va='bottom', fontsize=10, color='black')\n",
        "\n",
        "# Titles and labels\n",
        "plt.title('Aircraft Damage by Weather Condition', fontsize=14, fontweight='bold')\n",
        "plt.xlabel('Weather Condition', fontsize=12)\n",
        "plt.ylabel('Proportion of Damage (%)', fontsize=12)\n",
        "plt.xticks(rotation=45, ha='right', fontsize=10)\n",
        "plt.legend(title='Aircraft Damage', fontsize=10)\n",
        "plt.tight_layout()\n",
        "\n",
        "# Show plot\n",
        "plt.show()"
      ]
    },
    {
      "cell_type": "markdown",
      "metadata": {
        "id": "Xii6ae4LtyuE"
      },
      "source": [
        "**Insight:** Accidents in **Instrument Meteorological Conditions (IMC)** result in higher aircraft damage."
      ]
    },
    {
      "cell_type": "markdown",
      "metadata": {
        "id": "vYny_LPRYM1k"
      },
      "source": [
        "#### Fatal Injuries by Phase of Flight\n",
        "We identify the most dangerous flight phases."
      ]
    },
    {
      "cell_type": "code",
      "execution_count": 28,
      "metadata": {
        "colab": {
          "base_uri": "https://localhost:8080/",
          "height": 847
        },
        "id": "L6joSI9EvWNI",
        "outputId": "c9fe6fc3-69a3-4759-a1b0-8eb163195ffb"
      },
      "outputs": [
        {
          "name": "stderr",
          "output_type": "stream",
          "text": [
            "/var/folders/hk/9q5rgqm970gcnk6z0xvy1p7m0000gn/T/ipykernel_93062/2248461279.py:6: FutureWarning: \n",
            "\n",
            "Passing `palette` without assigning `hue` is deprecated and will be removed in v0.14.0. Assign the `y` variable to `hue` and set `legend=False` for the same effect.\n",
            "\n",
            "  sns.barplot(data=fatal_by_phase, x='Total.Fatal.Injuries', y='Broad.phase.of.flight', palette='magma')\n"
          ]
        },
        {
          "data": {
            "image/png": "[encoded data removed]",
            "text/plain": [
              "<Figure size 1200x800 with 1 Axes>"
            ]
          },
          "metadata": {},
          "output_type": "display_data"
        }
      ],
      "source": [
        "# Group by 'Broad.phase.of.flight' and calculate total fatal injuries\n",
        "fatal_by_phase = df_clean.groupby('Broad.phase.of.flight')['Total.Fatal.Injuries'].sum().reset_index()\n",
        "\n",
        "# Plot\n",
        "plt.figure(figsize=(12, 8))\n",
        "sns.barplot(data=fatal_by_phase, x='Total.Fatal.Injuries', y='Broad.phase.of.flight', palette='magma')\n",
        "plt.title('Total Fatal Injuries by Phase of Flight')\n",
        "plt.xlabel('Total Fatal Injuries')\n",
        "plt.ylabel('Phase of Flight')\n",
        "plt.show()"
      ]
    },
    {
      "cell_type": "markdown",
      "metadata": {
        "id": "ElB2C9u_uGJ0"
      },
      "source": [
        "**Insight:** Takeoff and landing phases have the highest fatal injuries"
      ]
    },
    {
      "cell_type": "markdown",
      "metadata": {
        "id": "MMUDThBGYWP3"
      },
      "source": [
        "## Accident Trends Over Time"
      ]
    },
    {
      "cell_type": "code",
      "execution_count": 29,
      "metadata": {
        "colab": {
          "base_uri": "https://localhost:8080/",
          "height": 718
        },
        "id": "RsMEBnU4W01D",
        "outputId": "ea19d1ac-c56b-415f-d144-182534268f51"
      },
      "outputs": [
        {
          "data": {
            "image/png": "[encoded data removed]",
            "text/plain": [
              "<Figure size 1200x800 with 1 Axes>"
            ]
          },
          "metadata": {},
          "output_type": "display_data"
        }
      ],
      "source": [
        "# Extract year from 'Event.Date'\n",
        "df_clean['Year'] = df_clean['Event.Date'].dt.year\n",
        "\n",
        "# Group by year and count accidents\n",
        "accidents_by_year = df_clean.groupby('Year').size().reset_index(name='Accident.Count')\n",
        "\n",
        "# Plot\n",
        "plt.figure(figsize=(12, 8))\n",
        "sns.lineplot(data=accidents_by_year, x='Year', y='Accident.Count', marker='o', color='blue')\n",
        "plt.title('Accident Trends Over Time (1962-2023)')\n",
        "plt.xlabel('Year')\n",
        "plt.ylabel('Number of Accidents')\n",
        "plt.show()"
      ]
    },
    {
      "cell_type": "markdown",
      "metadata": {
        "id": "uScIUK1SYhID"
      },
      "source": [
        "####  Engine Type vs. Fatal Injuries"
      ]
    },
    {
      "cell_type": "markdown",
      "metadata": {
        "id": "wJEYYyf0wuc2"
      },
      "source": [
        "We compare the engine type with the injury severity"
      ]
    },
    {
      "cell_type": "code",
      "execution_count": 30,
      "metadata": {
        "colab": {
          "base_uri": "https://localhost:8080/",
          "height": 807
        },
        "id": "ey5QYL-f_szK",
        "outputId": "49ee9455-58dd-45bc-d1af-dddf56a2ac6c"
      },
      "outputs": [
        {
          "data": {
            "image/png": "[encoded data removed]",
            "text/plain": [
              "<Figure size 1200x800 with 1 Axes>"
            ]
          },
          "metadata": {},
          "output_type": "display_data"
        }
      ],
      "source": [
        "# Analyze Engine Type and Accident Severity\n",
        "engine_analysis = df.groupby('Engine.Type').agg({\n",
        "    'Total.Fatal.Injuries': 'sum',\n",
        "    'Total.Serious.Injuries': 'sum',\n",
        "    'Total.Minor.Injuries': 'sum',\n",
        "    'Risk.Score': 'mean'\n",
        "}).reset_index()\n",
        "\n",
        "# Sort by Risk Score\n",
        "engine_analysis = engine_analysis.sort_values(by='Risk.Score', ascending=False)\n",
        "\n",
        "# Set index for stacking\n",
        "engine_analysis.set_index('Engine.Type', inplace=True)\n",
        "\n",
        "# Plot stacked bar chart\n",
        "engine_analysis[['Total.Fatal.Injuries', 'Total.Serious.Injuries', 'Total.Minor.Injuries']].plot(\n",
        "    kind='bar', stacked=True, figsize=(12, 8), colormap='viridis', edgecolor='black'\n",
        ")\n",
        "\n",
        "# Titles and labels\n",
        "plt.title('Injury Severity by Engine Type', fontsize=14, fontweight='bold')\n",
        "plt.xlabel('Engine Type', fontsize=12)\n",
        "plt.ylabel('Number of Injuries', fontsize=12)\n",
        "plt.xticks(rotation=45, ha='right', fontsize=10)\n",
        "plt.legend(title='Injury Type', fontsize=10)\n",
        "plt.grid(axis='y', linestyle='--', alpha=0.7)\n",
        "\n",
        "plt.tight_layout()\n",
        "plt.show()"
      ]
    },
    {
      "cell_type": "markdown",
      "metadata": {
        "id": "ILp-Z7m1Ymfs"
      },
      "source": [
        "## Risk Score by Engine Type"
      ]
    },
    {
      "cell_type": "markdown",
      "metadata": {
        "id": "BYVaZX3xxFQd"
      },
      "source": [
        "We generate the risk score for each engine type which informs our recommendations"
      ]
    },
    {
      "cell_type": "code",
      "execution_count": 31,
      "metadata": {
        "colab": {
          "base_uri": "https://localhost:8080/",
          "height": 517
        },
        "id": "U6vKxZLkQi5W",
        "outputId": "de7cdc46-cf2d-4945-8a9e-d164b7659afa"
      },
      "outputs": [
        {
          "data": {
            "application/vnd.plotly.v1+json": {
              "config": {
                "plotlyServerURL": "https://plot.ly"
              },
              "data": [
                {
                  "hovertemplate": "Engine Type=%{x}<br>Risk Score=%{marker.color}<extra></extra>",
                  "legendgroup": "",
                  "marker": {
                    "color": {
                      "bdata": "AAAAAACANkDpjscSarwgQI+D9sNK4x1AoPeo0P15E0AAAAAAAAAQQBO/o7lbfwdADmnPtMMhBECwDA3H0u8AQAAAAAAAAABAmpmZmZmZ6T8AAAAAAAAAAAAAAAAAAAAA",
                      "dtype": "f8"
                    },
                    "coloraxis": "coloraxis",
                    "pattern": {
                      "shape": ""
                    }
                  },
                  "name": "",
                  "orientation": "v",
                  "showlegend": false,
                  "textposition": "auto",
                  "type": "bar",
                  "x": [
                    "LR",
                    "Turbo Fan",
                    "Unknown",
                    "Turbo Jet",
                    "Hybrid Rocket",
                    "Turbo Prop",
                    "Turbo Shaft",
                    "Reciprocating",
                    "UNK",
                    "Electric",
                    "Geared Turbofan",
                    "NONE"
                  ],
                  "xaxis": "x",
                  "y": {
                    "bdata": "AAAAAACANkDpjscSarwgQI+D9sNK4x1AoPeo0P15E0AAAAAAAAAQQBO/o7lbfwdADmnPtMMhBECwDA3H0u8AQAAAAAAAAABAmpmZmZmZ6T8AAAAAAAAAAAAAAAAAAAAA",
                    "dtype": "f8"
                  },
                  "yaxis": "y"
                }
              ],
              "layout": {
                "barmode": "relative",
                "coloraxis": {
                  "colorbar": {
                    "title": {
                      "text": "Risk Score"
                    }
                  },
                  "colorscale": [
                    [
                      0,
                      "#0d0887"
                    ],
                    [
                      0.1111111111111111,
                      "#46039f"
                    ],
                    [
                      0.2222222222222222,
                      "#7201a8"
                    ],
                    [
                      0.3333333333333333,
                      "#9c179e"
                    ],
                    [
                      0.4444444444444444,
                      "#bd3786"
                    ],
                    [
                      0.5555555555555556,
                      "#d8576b"
                    ],
                    [
                      0.6666666666666666,
                      "#ed7953"
                    ],
                    [
                      0.7777777777777778,
                      "#fb9f3a"
                    ],
                    [
                      0.8888888888888888,
                      "#fdca26"
                    ],
                    [
                      1,
                      "#f0f921"
                    ]
                  ]
                },
                "height": 500,
                "legend": {
                  "tracegroupgap": 0
                },
                "template": {
                  "data": {
                    "bar": [
                      {
                        "error_x": {
                          "color": "#2a3f5f"
                        },
                        "error_y": {
                          "color": "#2a3f5f"
                        },
                        "marker": {
                          "line": {
                            "color": "#E5ECF6",
                            "width": 0.5
                          },
                          "pattern": {
                            "fillmode": "overlay",
                            "size": 10,
                            "solidity": 0.2
                          }
                        },
                        "type": "bar"
                      }
                    ],
                    "barpolar": [
                      {
                        "marker": {
                          "line": {
                            "color": "#E5ECF6",
                            "width": 0.5
                          },
                          "pattern": {
                            "fillmode": "overlay",
                            "size": 10,
                            "solidity": 0.2
                          }
                        },
                        "type": "barpolar"
                      }
                    ],
                    "carpet": [
                      {
                        "aaxis": {
                          "endlinecolor": "#2a3f5f",
                          "gridcolor": "white",
                          "linecolor": "white",
                          "minorgridcolor": "white",
                          "startlinecolor": "#2a3f5f"
                        },
                        "baxis": {
                          "endlinecolor": "#2a3f5f",
                          "gridcolor": "white",
                          "linecolor": "white",
                          "minorgridcolor": "white",
                          "startlinecolor": "#2a3f5f"
                        },
                        "type": "carpet"
                      }
                    ],
                    "choropleth": [
                      {
                        "colorbar": {
                          "outlinewidth": 0,
                          "ticks": ""
                        },
                        "type": "choropleth"
                      }
                    ],
                    "contour": [
                      {
                        "colorbar": {
                          "outlinewidth": 0,
                          "ticks": ""
                        },
                        "colorscale": [
                          [
                            0,
                            "#0d0887"
                          ],
                          [
                            0.1111111111111111,
                            "#46039f"
                          ],
                          [
                            0.2222222222222222,
                            "#7201a8"
                          ],
                          [
                            0.3333333333333333,
                            "#9c179e"
                          ],
                          [
                            0.4444444444444444,
                            "#bd3786"
                          ],
                          [
                            0.5555555555555556,
                            "#d8576b"
                          ],
                          [
                            0.6666666666666666,
                            "#ed7953"
                          ],
                          [
                            0.7777777777777778,
                            "#fb9f3a"
                          ],
                          [
                            0.8888888888888888,
                            "#fdca26"
                          ],
                          [
                            1,
                            "#f0f921"
                          ]
                        ],
                        "type": "contour"
                      }
                    ],
                    "contourcarpet": [
                      {
                        "colorbar": {
                          "outlinewidth": 0,
                          "ticks": ""
                        },
                        "type": "contourcarpet"
                      }
                    ],
                    "heatmap": [
                      {
                        "colorbar": {
                          "outlinewidth": 0,
                          "ticks": ""
                        },
                        "colorscale": [
                          [
                            0,
                            "#0d0887"
                          ],
                          [
                            0.1111111111111111,
                            "#46039f"
                          ],
                          [
                            0.2222222222222222,
                            "#7201a8"
                          ],
                          [
                            0.3333333333333333,
                            "#9c179e"
                          ],
                          [
                            0.4444444444444444,
                            "#bd3786"
                          ],
                          [
                            0.5555555555555556,
                            "#d8576b"
                          ],
                          [
                            0.6666666666666666,
                            "#ed7953"
                          ],
                          [
                            0.7777777777777778,
                            "#fb9f3a"
                          ],
                          [
                            0.8888888888888888,
                            "#fdca26"
                          ],
                          [
                            1,
                            "#f0f921"
                          ]
                        ],
                        "type": "heatmap"
                      }
                    ],
                    "histogram": [
                      {
                        "marker": {
                          "pattern": {
                            "fillmode": "overlay",
                            "size": 10,
                            "solidity": 0.2
                          }
                        },
                        "type": "histogram"
                      }
                    ],
                    "histogram2d": [
                      {
                        "colorbar": {
                          "outlinewidth": 0,
                          "ticks": ""
                        },
                        "colorscale": [
                          [
                            0,
                            "#0d0887"
                          ],
                          [
                            0.1111111111111111,
                            "#46039f"
                          ],
                          [
                            0.2222222222222222,
                            "#7201a8"
                          ],
                          [
                            0.3333333333333333,
                            "#9c179e"
                          ],
                          [
                            0.4444444444444444,
                            "#bd3786"
                          ],
                          [
                            0.5555555555555556,
                            "#d8576b"
                          ],
                          [
                            0.6666666666666666,
                            "#ed7953"
                          ],
                          [
                            0.7777777777777778,
                            "#fb9f3a"
                          ],
                          [
                            0.8888888888888888,
                            "#fdca26"
                          ],
                          [
                            1,
                            "#f0f921"
                          ]
                        ],
                        "type": "histogram2d"
                      }
                    ],
                    "histogram2dcontour": [
                      {
                        "colorbar": {
                          "outlinewidth": 0,
                          "ticks": ""
                        },
                        "colorscale": [
                          [
                            0,
                            "#0d0887"
                          ],
                          [
                            0.1111111111111111,
                            "#46039f"
                          ],
                          [
                            0.2222222222222222,
                            "#7201a8"
                          ],
                          [
                            0.3333333333333333,
                            "#9c179e"
                          ],
                          [
                            0.4444444444444444,
                            "#bd3786"
                          ],
                          [
                            0.5555555555555556,
                            "#d8576b"
                          ],
                          [
                            0.6666666666666666,
                            "#ed7953"
                          ],
                          [
                            0.7777777777777778,
                            "#fb9f3a"
                          ],
                          [
                            0.8888888888888888,
                            "#fdca26"
                          ],
                          [
                            1,
                            "#f0f921"
                          ]
                        ],
                        "type": "histogram2dcontour"
                      }
                    ],
                    "mesh3d": [
                      {
                        "colorbar": {
                          "outlinewidth": 0,
                          "ticks": ""
                        },
                        "type": "mesh3d"
                      }
                    ],
                    "parcoords": [
                      {
                        "line": {
                          "colorbar": {
                            "outlinewidth": 0,
                            "ticks": ""
                          }
                        },
                        "type": "parcoords"
                      }
                    ],
                    "pie": [
                      {
                        "automargin": true,
                        "type": "pie"
                      }
                    ],
                    "scatter": [
                      {
                        "fillpattern": {
                          "fillmode": "overlay",
                          "size": 10,
                          "solidity": 0.2
                        },
                        "type": "scatter"
                      }
                    ],
                    "scatter3d": [
                      {
                        "line": {
                          "colorbar": {
                            "outlinewidth": 0,
                            "ticks": ""
                          }
                        },
                        "marker": {
                          "colorbar": {
                            "outlinewidth": 0,
                            "ticks": ""
                          }
                        },
                        "type": "scatter3d"
                      }
                    ],
                    "scattercarpet": [
                      {
                        "marker": {
                          "colorbar": {
                            "outlinewidth": 0,
                            "ticks": ""
                          }
                        },
                        "type": "scattercarpet"
                      }
                    ],
                    "scattergeo": [
                      {
                        "marker": {
                          "colorbar": {
                            "outlinewidth": 0,
                            "ticks": ""
                          }
                        },
                        "type": "scattergeo"
                      }
                    ],
                    "scattergl": [
                      {
                        "marker": {
                          "colorbar": {
                            "outlinewidth": 0,
                            "ticks": ""
                          }
                        },
                        "type": "scattergl"
                      }
                    ],
                    "scattermap": [
                      {
                        "marker": {
                          "colorbar": {
                            "outlinewidth": 0,
                            "ticks": ""
                          }
                        },
                        "type": "scattermap"
                      }
                    ],
                    "scattermapbox": [
                      {
                        "marker": {
                          "colorbar": {
                            "outlinewidth": 0,
                            "ticks": ""
                          }
                        },
                        "type": "scattermapbox"
                      }
                    ],
                    "scatterpolar": [
                      {
                        "marker": {
                          "colorbar": {
                            "outlinewidth": 0,
                            "ticks": ""
                          }
                        },
                        "type": "scatterpolar"
                      }
                    ],
                    "scatterpolargl": [
                      {
                        "marker": {
                          "colorbar": {
                            "outlinewidth": 0,
                            "ticks": ""
                          }
                        },
                        "type": "scatterpolargl"
                      }
                    ],
                    "scatterternary": [
                      {
                        "marker": {
                          "colorbar": {
                            "outlinewidth": 0,
                            "ticks": ""
                          }
                        },
                        "type": "scatterternary"
                      }
                    ],
                    "surface": [
                      {
                        "colorbar": {
                          "outlinewidth": 0,
                          "ticks": ""
                        },
                        "colorscale": [
                          [
                            0,
                            "#0d0887"
                          ],
                          [
                            0.1111111111111111,
                            "#46039f"
                          ],
                          [
                            0.2222222222222222,
                            "#7201a8"
                          ],
                          [
                            0.3333333333333333,
                            "#9c179e"
                          ],
                          [
                            0.4444444444444444,
                            "#bd3786"
                          ],
                          [
                            0.5555555555555556,
                            "#d8576b"
                          ],
                          [
                            0.6666666666666666,
                            "#ed7953"
                          ],
                          [
                            0.7777777777777778,
                            "#fb9f3a"
                          ],
                          [
                            0.8888888888888888,
                            "#fdca26"
                          ],
                          [
                            1,
                            "#f0f921"
                          ]
                        ],
                        "type": "surface"
                      }
                    ],
                    "table": [
                      {
                        "cells": {
                          "fill": {
                            "color": "#EBF0F8"
                          },
                          "line": {
                            "color": "white"
                          }
                        },
                        "header": {
                          "fill": {
                            "color": "#C8D4E3"
                          },
                          "line": {
                            "color": "white"
                          }
                        },
                        "type": "table"
                      }
                    ]
                  },
                  "layout": {
                    "annotationdefaults": {
                      "arrowcolor": "#2a3f5f",
                      "arrowhead": 0,
                      "arrowwidth": 1
                    },
                    "autotypenumbers": "strict",
                    "coloraxis": {
                      "colorbar": {
                        "outlinewidth": 0,
                        "ticks": ""
                      }
                    },
                    "colorscale": {
                      "diverging": [
                        [
                          0,
                          "#8e0152"
                        ],
                        [
                          0.1,
                          "#c51b7d"
                        ],
                        [
                          0.2,
                          "#de77ae"
                        ],
                        [
                          0.3,
                          "#f1b6da"
                        ],
                        [
                          0.4,
                          "#fde0ef"
                        ],
                        [
                          0.5,
                          "#f7f7f7"
                        ],
                        [
                          0.6,
                          "#e6f5d0"
                        ],
                        [
                          0.7,
                          "#b8e186"
                        ],
                        [
                          0.8,
                          "#7fbc41"
                        ],
                        [
                          0.9,
                          "#4d9221"
                        ],
                        [
                          1,
                          "#276419"
                        ]
                      ],
                      "sequential": [
                        [
                          0,
                          "#0d0887"
                        ],
                        [
                          0.1111111111111111,
                          "#46039f"
                        ],
                        [
                          0.2222222222222222,
                          "#7201a8"
                        ],
                        [
                          0.3333333333333333,
                          "#9c179e"
                        ],
                        [
                          0.4444444444444444,
                          "#bd3786"
                        ],
                        [
                          0.5555555555555556,
                          "#d8576b"
                        ],
                        [
                          0.6666666666666666,
                          "#ed7953"
                        ],
                        [
                          0.7777777777777778,
                          "#fb9f3a"
                        ],
                        [
                          0.8888888888888888,
                          "#fdca26"
                        ],
                        [
                          1,
                          "#f0f921"
                        ]
                      ],
                      "sequentialminus": [
                        [
                          0,
                          "#0d0887"
                        ],
                        [
                          0.1111111111111111,
                          "#46039f"
                        ],
                        [
                          0.2222222222222222,
                          "#7201a8"
                        ],
                        [
                          0.3333333333333333,
                          "#9c179e"
                        ],
                        [
                          0.4444444444444444,
                          "#bd3786"
                        ],
                        [
                          0.5555555555555556,
                          "#d8576b"
                        ],
                        [
                          0.6666666666666666,
                          "#ed7953"
                        ],
                        [
                          0.7777777777777778,
                          "#fb9f3a"
                        ],
                        [
                          0.8888888888888888,
                          "#fdca26"
                        ],
                        [
                          1,
                          "#f0f921"
                        ]
                      ]
                    },
                    "colorway": [
                      "#636efa",
                      "#EF553B",
                      "#00cc96",
                      "#ab63fa",
                      "#FFA15A",
                      "#19d3f3",
                      "#FF6692",
                      "#B6E880",
                      "#FF97FF",
                      "#FECB52"
                    ],
                    "font": {
                      "color": "#2a3f5f"
                    },
                    "geo": {
                      "bgcolor": "white",
                      "lakecolor": "white",
                      "landcolor": "#E5ECF6",
                      "showlakes": true,
                      "showland": true,
                      "subunitcolor": "white"
                    },
                    "hoverlabel": {
                      "align": "left"
                    },
                    "hovermode": "closest",
                    "mapbox": {
                      "style": "light"
                    },
                    "paper_bgcolor": "white",
                    "plot_bgcolor": "#E5ECF6",
                    "polar": {
                      "angularaxis": {
                        "gridcolor": "white",
                        "linecolor": "white",
                        "ticks": ""
                      },
                      "bgcolor": "#E5ECF6",
                      "radialaxis": {
                        "gridcolor": "white",
                        "linecolor": "white",
                        "ticks": ""
                      }
                    },
                    "scene": {
                      "xaxis": {
                        "backgroundcolor": "#E5ECF6",
                        "gridcolor": "white",
                        "gridwidth": 2,
                        "linecolor": "white",
                        "showbackground": true,
                        "ticks": "",
                        "zerolinecolor": "white"
                      },
                      "yaxis": {
                        "backgroundcolor": "#E5ECF6",
                        "gridcolor": "white",
                        "gridwidth": 2,
                        "linecolor": "white",
                        "showbackground": true,
                        "ticks": "",
                        "zerolinecolor": "white"
                      },
                      "zaxis": {
                        "backgroundcolor": "#E5ECF6",
                        "gridcolor": "white",
                        "gridwidth": 2,
                        "linecolor": "white",
                        "showbackground": true,
                        "ticks": "",
                        "zerolinecolor": "white"
                      }
                    },
                    "shapedefaults": {
                      "line": {
                        "color": "#2a3f5f"
                      }
                    },
                    "ternary": {
                      "aaxis": {
                        "gridcolor": "white",
                        "linecolor": "white",
                        "ticks": ""
                      },
                      "baxis": {
                        "gridcolor": "white",
                        "linecolor": "white",
                        "ticks": ""
                      },
                      "bgcolor": "#E5ECF6",
                      "caxis": {
                        "gridcolor": "white",
                        "linecolor": "white",
                        "ticks": ""
                      }
                    },
                    "title": {
                      "x": 0.05
                    },
                    "xaxis": {
                      "automargin": true,
                      "gridcolor": "white",
                      "linecolor": "white",
                      "ticks": "",
                      "title": {
                        "standoff": 15
                      },
                      "zerolinecolor": "white",
                      "zerolinewidth": 2
                    },
                    "yaxis": {
                      "automargin": true,
                      "gridcolor": "white",
                      "linecolor": "white",
                      "ticks": "",
                      "title": {
                        "standoff": 15
                      },
                      "zerolinecolor": "white",
                      "zerolinewidth": 2
                    }
                  }
                },
                "title": {
                  "text": "Risk Score by Engine Type"
                },
                "xaxis": {
                  "anchor": "y",
                  "domain": [
                    0,
                    1
                  ],
                  "title": {
                    "text": "Engine Type"
                  }
                },
                "yaxis": {
                  "anchor": "x",
                  "domain": [
                    0,
                    1
                  ],
                  "title": {
                    "text": "Risk Score"
                  }
                }
              }
            }
          },
          "metadata": {},
          "output_type": "display_data"
        }
      ],
      "source": [
        "import plotly.express as px\n",
        "\n",
        "fig = px.bar(engine_analysis, x=engine_analysis.index, y='Risk.Score', title='Risk Score by Engine Type',\n",
        "             labels={'Risk.Score': 'Risk Score', 'Engine.Type': 'Engine Type'},\n",
        "             color='Risk.Score', height=500)\n",
        "fig.show()\n"
      ]
    },
    {
      "cell_type": "code",
      "execution_count": 32,
      "metadata": {
        "id": "oBdx6OWtPnih"
      },
      "outputs": [],
      "source": [
        "# %%\n",
        "# Save cleaned data\n",
        "df.to_csv('cleaned_data.csv', index=False)"
      ]
    },
    {
      "cell_type": "markdown",
      "metadata": {
        "id": "SyRDJxuBVEFa"
      },
      "source": []
    },
    {
      "cell_type": "markdown",
      "metadata": {
        "id": "PJrjy8zPVuH5"
      },
      "source": [
        "## Conclusion\n",
        "This analysis provides valuable insights into aviation safety, helping the company make informed decisions as it enters the aviation industry. The recommendations focus on minimizing risks and ensuring the safety of operations."
      ]
    }
  ],
  "metadata": {
    "colab": {
      "provenance": []
    },
    "kernelspec": {
      "display_name": "Python 3",
      "name": "python3"
    },
    "language_info": {
      "codemirror_mode": {
        "name": "ipython",
        "version": 3
      },
      "file_extension": ".py",
      "mimetype": "text/x-python",
      "name": "python",
      "nbconvert_exporter": "python",
      "pygments_lexer": "ipython3",
      "version": "3.12.8"
    }
  },
  "nbformat": 4,
  "nbformat_minor": 0
}
